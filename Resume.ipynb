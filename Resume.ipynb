{
 "cells": [
  {
   "cell_type": "code",
   "execution_count": 6,
   "id": "5c210c95",
   "metadata": {},
   "outputs": [],
   "source": [
    "import re\n",
    "\n",
    "def extract_resume_sections(file_path):\n",
    "    \"\"\"\n",
    "    Extract only LaTeX resume sections, skipping preamble and personal info.\n",
    "    Returns a list of sections as strings.\n",
    "    \"\"\"\n",
    "    with open(file_path, \"r\", encoding=\"utf-8\") as f:\n",
    "        content = f.read()\n",
    "\n",
    "    # Ensure document starts correctly\n",
    "    if \"\\\\begin{document}\" not in content:\n",
    "        raise ValueError(\"No \\\\begin{document} found in LaTeX file.\")\n",
    "\n",
    "    # print(content.split(\"\\\\begin{document}\", 1)[0])\n",
    "    # Extract everything after \\begin{document}\n",
    "    body_start = content.split(\"\\\\begin{document}\", 1)[1]\n",
    "\n",
    "    # Extract everything before \\end{document}, if present\n",
    "    body, sep, after = body_start.partition(\"\\\\end{document}\")\n",
    "\n",
    "    # Skip personal info: start from first \\section or \\section*\n",
    "    first_section_match = re.search(r\"\\\\section\\*?|\\\\section\", body)\n",
    "    if not first_section_match:\n",
    "        raise ValueError(\"No \\\\section found in LaTeX resume body.\")\n",
    "\n",
    "    sections_text = body[first_section_match.start():]\n",
    "\n",
    "    # Split by section headers\n",
    "    sections = re.split(r\"(?=\\\\section\\*?|\\\\section)\", sections_text)\n",
    "    sections = [sec.strip() for sec in sections if sec.strip()]\n",
    "\n",
    "    return sections\n",
    "\n",
    "\n",
    "\n",
    "\n",
    "if __name__ == \"__main__\":\n",
    "    resume_path = '../Application_All/Resume/Resume_Ankit.tex'\n",
    "    sections = extract_resume_sections(resume_path)\n",
    "    \n",
    "    # print(\"\\nSections:\")\n",
    "    # for section in sections:\n",
    "    #     print(section)\n",
    "    "
   ]
  },
  {
   "cell_type": "code",
   "execution_count": 1,
   "id": "91d0aec4",
   "metadata": {},
   "outputs": [],
   "source": [
    "from Resume import ResumeModifier"
   ]
  },
  {
   "cell_type": "code",
   "execution_count": 10,
   "id": "ac3f1b64",
   "metadata": {},
   "outputs": [],
   "source": [
    "sections = [sec for sec in sections]\n"
   ]
  },
  {
   "cell_type": "code",
   "execution_count": 2,
   "id": "5413a865",
   "metadata": {},
   "outputs": [],
   "source": [
    "import re\n",
    "\n",
    "def extract_intro_and_sections(file_path):\n",
    "    \"\"\"\n",
    "    Extract the personal info / intro and the sections separately from a LaTeX resume.\n",
    "    Returns:\n",
    "        intro: str (personal info at top)\n",
    "        sections: list of strings (each LaTeX section)\n",
    "    \"\"\"\n",
    "    with open(file_path, \"r\", encoding=\"utf-8\") as f:\n",
    "        content = f.read()\n",
    "\n",
    "    # Everything between \\begin{document} and \\end{document}\n",
    "    body_start = content.split(\"\\\\begin{document}\", 1)[1]\n",
    "    body, _, _ = body_start.partition(\"\\\\end{document}\")\n",
    "\n",
    "    # Split into intro (everything before first section) and sections\n",
    "    match = re.search(r\"\\\\section\\*?|\\\\section\", body)\n",
    "    if not match:\n",
    "        raise ValueError(\"No sections found in resume.\")\n",
    "\n",
    "    intro = body[:match.start()].strip()  # personal info\n",
    "    sections_text = body[match.start():]\n",
    "\n",
    "    # Split sections by \\section or \\section*\n",
    "    sections = re.split(r\"(?=\\\\section\\*?|\\\\section)\", sections_text)\n",
    "    sections = [sec.strip() for sec in sections if sec.strip()]\n",
    "\n",
    "    return intro, sections\n"
   ]
  },
  {
   "cell_type": "code",
   "execution_count": 3,
   "id": "e65fb96a",
   "metadata": {},
   "outputs": [
    {
     "name": "stdout",
     "output_type": "stream",
     "text": [
      "Tailored resume saved to tailored_resume.tex\n"
     ]
    }
   ],
   "source": [
    "def assemble_resume(intro, sections, original_file=\"resume.tex\", output_file=\"tailored_resume.tex\"):\n",
    "    \"\"\"\n",
    "    Reassemble LaTeX resume keeping preamble, intro (personal info), and modified sections.\n",
    "    \"\"\"\n",
    "    with open(original_file, \"r\", encoding=\"utf-8\") as f:\n",
    "        content = f.read()\n",
    "\n",
    "    preamble, _, _ = content.partition(\"\\\\begin{document}\")\n",
    "    _, sep, end = content.rpartition(\"\\\\end{document}\")\n",
    "    end_document = sep + end if sep else \"\\\\end{document}\"\n",
    "\n",
    "    # Join sections safely\n",
    "    new_content = preamble + \"\\\\begin{document}\\n\\n\" + intro + \"\\n\\n\" + \"\\n\\n\".join(sections) + \"\\n\\n\" + end_document\n",
    "\n",
    "    with open(output_file, \"w\", encoding=\"utf-8\") as f:\n",
    "        f.write(new_content)\n",
    "\n",
    "    print(f\"Tailored resume saved to {output_file}\")\n",
    "\n",
    "\n",
    "resume_path = '../Application_All/Resume/Resume_Ankit.tex'\n",
    "\n",
    "\n",
    "# 1️⃣ Extract\n",
    "intro, sections = extract_intro_and_sections(resume_path)\n",
    "\n",
    "# # 2️⃣ Tailor sections using your model\n",
    "# tailored_sections = tailor_sections_with_model(sections, job_desc)\n",
    "\n",
    "# 3️⃣ Assemble final LaTeX resume\n",
    "assemble_resume(intro, sections, original_file=resume_path, output_file=\"tailored_resume.tex\")\n"
   ]
  },
  {
   "cell_type": "code",
   "execution_count": 3,
   "id": "522d4eef",
   "metadata": {},
   "outputs": [
    {
     "name": "stdout",
     "output_type": "stream",
     "text": [
      "Tailored resume saved to tailored_resume.tex\n"
     ]
    }
   ],
   "source": [
    "from Resume import ResumeModifier\n",
    "\n",
    "resume = ResumeModifier('../Application_All/Resume/Resume_Ankit.tex')\n",
    "\n",
    "resume.extract_intro_and_sections()\n",
    "\n",
    "resume.assemble_resume(resume.sections, output_file=\"tailored_resume.tex\")"
   ]
  },
  {
   "cell_type": "code",
   "execution_count": null,
   "id": "9fc899a6",
   "metadata": {},
   "outputs": [],
   "source": []
  }
 ],
 "metadata": {
  "kernelspec": {
   "display_name": "resume_mcp",
   "language": "python",
   "name": "python3"
  },
  "language_info": {
   "codemirror_mode": {
    "name": "ipython",
    "version": 3
   },
   "file_extension": ".py",
   "mimetype": "text/x-python",
   "name": "python",
   "nbconvert_exporter": "python",
   "pygments_lexer": "ipython3",
   "version": "3.11.13"
  }
 },
 "nbformat": 4,
 "nbformat_minor": 5
}
