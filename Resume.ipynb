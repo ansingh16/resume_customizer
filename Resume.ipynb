{
 "cells": [
  {
   "cell_type": "code",
   "execution_count": null,
   "id": "5c210c95",
   "metadata": {},
   "outputs": [],
   "source": [
    "import re\n",
    "\n",
    "def extract_resume_sections(file_path):\n",
    "    \"\"\"\n",
    "    Extract only LaTeX resume sections, skipping preamble and personal info.\n",
    "    Returns a list of sections as strings.\n",
    "    \"\"\"\n",
    "    with open(file_path, \"r\", encoding=\"utf-8\") as f:\n",
    "        content = f.read()\n",
    "\n",
    "    # Ensure document starts correctly\n",
    "    if \"\\\\begin{document}\" not in content:\n",
    "        raise ValueError(\"No \\\\begin{document} found in LaTeX file.\")\n",
    "\n",
    "    # Extract everything after \\begin{document}\n",
    "    body_start = content.split(\"\\\\begin{document}\", 1)[1]\n",
    "\n",
    "    # Extract everything before \\end{document}, if present\n",
    "    body, sep, after = body_start.partition(\"\\\\end{document}\")\n",
    "\n",
    "    # Skip personal info: start from first \\section or \\section*\n",
    "    first_section_match = re.search(r\"\\\\section\\*?|\\\\section\", body)\n",
    "    if not first_section_match:\n",
    "        raise ValueError(\"No \\\\section found in LaTeX resume body.\")\n",
    "\n",
    "    sections_text = body[first_section_match.start():]\n",
    "\n",
    "    # Split by section headers\n",
    "    sections = re.split(r\"(?=\\\\section\\*?|\\\\section)\", sections_text)\n",
    "    sections = [sec.strip() for sec in sections if sec.strip()]\n",
    "\n",
    "    return sections\n",
    "\n",
    "\n",
    "\n",
    "\n",
    "if __name__ == \"__main__\":\n",
    "    resume_path = '../Application_All/Resume/Resume_Ankit.tex'\n",
    "    sections = split_latex_resume_sections(resume_path)\n",
    "    \n",
    "    print(\"\\nSections:\")\n",
    "    for section in sections:\n",
    "        print(section)\n",
    "    "
   ]
  },
  {
   "cell_type": "code",
   "execution_count": null,
   "id": "91d0aec4",
   "metadata": {},
   "outputs": [],
   "source": []
  }
 ],
 "metadata": {
  "kernelspec": {
   "display_name": "resume_mcp",
   "language": "python",
   "name": "python3"
  },
  "language_info": {
   "codemirror_mode": {
    "name": "ipython",
    "version": 3
   },
   "file_extension": ".py",
   "mimetype": "text/x-python",
   "name": "python",
   "nbconvert_exporter": "python",
   "pygments_lexer": "ipython3",
   "version": "3.11.13"
  }
 },
 "nbformat": 4,
 "nbformat_minor": 5
}
